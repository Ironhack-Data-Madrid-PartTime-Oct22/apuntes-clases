{
 "cells": [
  {
   "cell_type": "code",
   "execution_count": 90,
   "id": "8c833180",
   "metadata": {},
   "outputs": [],
   "source": [
    "import pickle\n",
    "import pandas as pd"
   ]
  },
  {
   "cell_type": "code",
   "execution_count": 91,
   "id": "ca2ce27c",
   "metadata": {},
   "outputs": [
    {
     "data": {
      "text/html": [
       "<div>\n",
       "<style scoped>\n",
       "    .dataframe tbody tr th:only-of-type {\n",
       "        vertical-align: middle;\n",
       "    }\n",
       "\n",
       "    .dataframe tbody tr th {\n",
       "        vertical-align: top;\n",
       "    }\n",
       "\n",
       "    .dataframe thead th {\n",
       "        text-align: right;\n",
       "    }\n",
       "</style>\n",
       "<table border=\"1\" class=\"dataframe\">\n",
       "  <thead>\n",
       "    <tr style=\"text-align: right;\">\n",
       "      <th></th>\n",
       "      <th>Age</th>\n",
       "      <th>Sex</th>\n",
       "      <th>ChestPainType</th>\n",
       "      <th>RestingBP</th>\n",
       "      <th>Cholesterol</th>\n",
       "      <th>FastingBS</th>\n",
       "      <th>RestingECG</th>\n",
       "      <th>MaxHR</th>\n",
       "      <th>ExerciseAngina</th>\n",
       "      <th>Oldpeak</th>\n",
       "      <th>ST_Slope</th>\n",
       "      <th>HeartDisease</th>\n",
       "    </tr>\n",
       "  </thead>\n",
       "  <tbody>\n",
       "    <tr>\n",
       "      <th>0</th>\n",
       "      <td>40</td>\n",
       "      <td>M</td>\n",
       "      <td>ATA</td>\n",
       "      <td>140</td>\n",
       "      <td>289</td>\n",
       "      <td>0</td>\n",
       "      <td>Normal</td>\n",
       "      <td>172</td>\n",
       "      <td>N</td>\n",
       "      <td>0.0</td>\n",
       "      <td>Up</td>\n",
       "      <td>0</td>\n",
       "    </tr>\n",
       "    <tr>\n",
       "      <th>1</th>\n",
       "      <td>49</td>\n",
       "      <td>F</td>\n",
       "      <td>NAP</td>\n",
       "      <td>160</td>\n",
       "      <td>180</td>\n",
       "      <td>0</td>\n",
       "      <td>Normal</td>\n",
       "      <td>156</td>\n",
       "      <td>N</td>\n",
       "      <td>1.0</td>\n",
       "      <td>Flat</td>\n",
       "      <td>1</td>\n",
       "    </tr>\n",
       "  </tbody>\n",
       "</table>\n",
       "</div>"
      ],
      "text/plain": [
       "   Age Sex ChestPainType  RestingBP  Cholesterol  FastingBS RestingECG  MaxHR  \\\n",
       "0   40   M           ATA        140          289          0     Normal    172   \n",
       "1   49   F           NAP        160          180          0     Normal    156   \n",
       "\n",
       "  ExerciseAngina  Oldpeak ST_Slope  HeartDisease  \n",
       "0              N      0.0       Up             0  \n",
       "1              N      1.0     Flat             1  "
      ]
     },
     "execution_count": 91,
     "metadata": {},
     "output_type": "execute_result"
    }
   ],
   "source": [
    "df = pd.read_csv(\"data/heart.csv\")\n",
    "df.head(2)"
   ]
  },
  {
   "cell_type": "markdown",
   "id": "9ea474e3",
   "metadata": {},
   "source": [
    "Abrimos todos los *transformers* que guardamos cuando hicimos el modelo"
   ]
  },
  {
   "cell_type": "code",
   "execution_count": 92,
   "id": "438b634d",
   "metadata": {},
   "outputs": [],
   "source": [
    "# encoding ChestPainType\n",
    "with open('data/encondingChestPainType.pkl', 'rb') as chest:\n",
    "    encoding_chestpain = pickle.load(chest)\n",
    "    \n",
    "# encoding Angina\n",
    "with open('data/encondingExerciseAngina.pkl', 'rb') as angina:\n",
    "    encoding_angina = pickle.load(angina)\n",
    "\n",
    "    \n",
    "# encoding Fasting\n",
    "with open('data/encondingFastingBS.pkl', 'rb') as fasting:\n",
    "    encoding_fasting = pickle.load(fasting)\n",
    "\n",
    "# encoding Resting\n",
    "with open('data/encondingRestingECG.pkl', 'rb') as resting:\n",
    "    encoding_resting = pickle.load(resting)\n",
    "\n",
    "# encoding Slope\n",
    "with open('data/encondingST_Slope.pkl', 'rb') as slope:\n",
    "    encoding_slope = pickle.load(slope)\n",
    "\n",
    "# encoding Sex\n",
    "with open('data/encondingSex.pkl', 'rb') as sex:\n",
    "    encoding_sex = pickle.load(sex)\n",
    "\n",
    "# estandarización\n",
    "with open('data/estandarizacion.pkl', 'rb') as estandarizacion:\n",
    "    estandarizacion = pickle.load(estandarizacion)\n"
   ]
  },
  {
   "cell_type": "code",
   "execution_count": 93,
   "id": "97979cd5",
   "metadata": {},
   "outputs": [],
   "source": [
    "# cargamos el mejor modelo\n",
    "with open('data/mejor_modelo.pkl', 'rb') as modelo:\n",
    "    modelo = pickle.load(modelo)"
   ]
  },
  {
   "cell_type": "markdown",
   "id": "ce5bd102",
   "metadata": {},
   "source": [
    "Nos preparamos para hacer la predicción"
   ]
  },
  {
   "cell_type": "code",
   "execution_count": 94,
   "id": "a1f735f6",
   "metadata": {
    "scrolled": true
   },
   "outputs": [
    {
     "data": {
      "text/html": [
       "<div>\n",
       "<style scoped>\n",
       "    .dataframe tbody tr th:only-of-type {\n",
       "        vertical-align: middle;\n",
       "    }\n",
       "\n",
       "    .dataframe tbody tr th {\n",
       "        vertical-align: top;\n",
       "    }\n",
       "\n",
       "    .dataframe thead th {\n",
       "        text-align: right;\n",
       "    }\n",
       "</style>\n",
       "<table border=\"1\" class=\"dataframe\">\n",
       "  <thead>\n",
       "    <tr style=\"text-align: right;\">\n",
       "      <th></th>\n",
       "      <th>Age</th>\n",
       "      <th>Sex</th>\n",
       "      <th>ChestPainType</th>\n",
       "      <th>RestingBP</th>\n",
       "      <th>Cholesterol</th>\n",
       "      <th>FastingBS</th>\n",
       "      <th>RestingECG</th>\n",
       "      <th>MaxHR</th>\n",
       "      <th>ExerciseAngina</th>\n",
       "      <th>Oldpeak</th>\n",
       "      <th>ST_Slope</th>\n",
       "      <th>HeartDisease</th>\n",
       "    </tr>\n",
       "  </thead>\n",
       "  <tbody>\n",
       "    <tr>\n",
       "      <th>675</th>\n",
       "      <td>57</td>\n",
       "      <td>M</td>\n",
       "      <td>NAP</td>\n",
       "      <td>150</td>\n",
       "      <td>126</td>\n",
       "      <td>1</td>\n",
       "      <td>Normal</td>\n",
       "      <td>173</td>\n",
       "      <td>N</td>\n",
       "      <td>0.2</td>\n",
       "      <td>Up</td>\n",
       "      <td>0</td>\n",
       "    </tr>\n",
       "    <tr>\n",
       "      <th>599</th>\n",
       "      <td>56</td>\n",
       "      <td>M</td>\n",
       "      <td>ASY</td>\n",
       "      <td>130</td>\n",
       "      <td>203</td>\n",
       "      <td>1</td>\n",
       "      <td>Normal</td>\n",
       "      <td>98</td>\n",
       "      <td>N</td>\n",
       "      <td>1.5</td>\n",
       "      <td>Flat</td>\n",
       "      <td>1</td>\n",
       "    </tr>\n",
       "    <tr>\n",
       "      <th>703</th>\n",
       "      <td>41</td>\n",
       "      <td>F</td>\n",
       "      <td>ATA</td>\n",
       "      <td>126</td>\n",
       "      <td>306</td>\n",
       "      <td>0</td>\n",
       "      <td>Normal</td>\n",
       "      <td>163</td>\n",
       "      <td>N</td>\n",
       "      <td>0.0</td>\n",
       "      <td>Up</td>\n",
       "      <td>0</td>\n",
       "    </tr>\n",
       "    <tr>\n",
       "      <th>266</th>\n",
       "      <td>52</td>\n",
       "      <td>M</td>\n",
       "      <td>ASY</td>\n",
       "      <td>130</td>\n",
       "      <td>298</td>\n",
       "      <td>0</td>\n",
       "      <td>Normal</td>\n",
       "      <td>110</td>\n",
       "      <td>Y</td>\n",
       "      <td>1.0</td>\n",
       "      <td>Flat</td>\n",
       "      <td>1</td>\n",
       "    </tr>\n",
       "  </tbody>\n",
       "</table>\n",
       "</div>"
      ],
      "text/plain": [
       "     Age Sex ChestPainType  RestingBP  Cholesterol  FastingBS RestingECG  \\\n",
       "675   57   M           NAP        150          126          1     Normal   \n",
       "599   56   M           ASY        130          203          1     Normal   \n",
       "703   41   F           ATA        126          306          0     Normal   \n",
       "266   52   M           ASY        130          298          0     Normal   \n",
       "\n",
       "     MaxHR ExerciseAngina  Oldpeak ST_Slope  HeartDisease  \n",
       "675    173              N      0.2       Up             0  \n",
       "599     98              N      1.5     Flat             1  \n",
       "703    163              N      0.0       Up             0  \n",
       "266    110              Y      1.0     Flat             1  "
      ]
     },
     "execution_count": 94,
     "metadata": {},
     "output_type": "execute_result"
    }
   ],
   "source": [
    "# recordamos como eran los datos que nos pasaban de origen\n",
    "df.sample(4)"
   ]
  },
  {
   "cell_type": "code",
   "execution_count": 95,
   "id": "db286a2f",
   "metadata": {},
   "outputs": [],
   "source": [
    "# le pedimos al médico que nos de los datos del paciente\n",
    "resultados = {\"Age\" : int(input(\"¿Cuál es tu edad?\")),\n",
    "\"Sex\" : input(\"¿Cuál es tu genero?\"),\n",
    "\"ChestPainType\" : input(\"¿Tuviste dolor de pecho?\"),\n",
    "\"RestingBP\" : int(input(\"¿Cual es tu presion arterial?\")),\n",
    "\"Cholesterol\" : int(input(\"¿Cual es tu colesterol?\")),\n",
    "\"FastingBS\" : int(input(\"¿Cual es tu nivel de azucar?\")),\n",
    "\"RestingECG\" : input(\"¿Cual es tu resultado del electrocardiograma?\"),\n",
    "\"MaxHR\" : int(input(\"¿Cual es tu frecuencia cardiaca?\")),\n",
    "\"ExerciseAngina\" : input(\"¿Angina inducida?\"),\n",
    "\"Oldpeak\" : float(input(\"oldpeak?\")),\n",
    "\"ST_Slope\" : input(\"¿Cómo era la pendiente?\")}\n"
   ]
  },
  {
   "cell_type": "code",
   "execution_count": 96,
   "id": "f89c60e0",
   "metadata": {},
   "outputs": [
    {
     "data": {
      "text/html": [
       "<div>\n",
       "<style scoped>\n",
       "    .dataframe tbody tr th:only-of-type {\n",
       "        vertical-align: middle;\n",
       "    }\n",
       "\n",
       "    .dataframe tbody tr th {\n",
       "        vertical-align: top;\n",
       "    }\n",
       "\n",
       "    .dataframe thead th {\n",
       "        text-align: right;\n",
       "    }\n",
       "</style>\n",
       "<table border=\"1\" class=\"dataframe\">\n",
       "  <thead>\n",
       "    <tr style=\"text-align: right;\">\n",
       "      <th></th>\n",
       "      <th>Age</th>\n",
       "      <th>Sex</th>\n",
       "      <th>ChestPainType</th>\n",
       "      <th>RestingBP</th>\n",
       "      <th>Cholesterol</th>\n",
       "      <th>FastingBS</th>\n",
       "      <th>RestingECG</th>\n",
       "      <th>MaxHR</th>\n",
       "      <th>ExerciseAngina</th>\n",
       "      <th>Oldpeak</th>\n",
       "      <th>ST_Slope</th>\n",
       "    </tr>\n",
       "  </thead>\n",
       "  <tbody>\n",
       "    <tr>\n",
       "      <th>0</th>\n",
       "      <td>23</td>\n",
       "      <td>M</td>\n",
       "      <td>NAP</td>\n",
       "      <td>234</td>\n",
       "      <td>198</td>\n",
       "      <td>1</td>\n",
       "      <td>Normal</td>\n",
       "      <td>123</td>\n",
       "      <td>Y</td>\n",
       "      <td>1.9</td>\n",
       "      <td>Up</td>\n",
       "    </tr>\n",
       "  </tbody>\n",
       "</table>\n",
       "</div>"
      ],
      "text/plain": [
       "   Age Sex ChestPainType  RestingBP  Cholesterol  FastingBS RestingECG  MaxHR  \\\n",
       "0   23   M           NAP        234          198          1     Normal    123   \n",
       "\n",
       "  ExerciseAngina  Oldpeak ST_Slope  \n",
       "0              Y      1.9       Up  "
      ]
     },
     "execution_count": 96,
     "metadata": {},
     "output_type": "execute_result"
    }
   ],
   "source": [
    "# convertimos los datos del paciente a dataframe para poder trabajar con ellos. \n",
    "df_resultados = pd.DataFrame(resultados, index=[0])\n",
    "df_resultados"
   ]
  },
  {
   "cell_type": "code",
   "execution_count": 98,
   "id": "7dd3c9f3",
   "metadata": {},
   "outputs": [
    {
     "data": {
      "text/html": [
       "<div>\n",
       "<style scoped>\n",
       "    .dataframe tbody tr th:only-of-type {\n",
       "        vertical-align: middle;\n",
       "    }\n",
       "\n",
       "    .dataframe tbody tr th {\n",
       "        vertical-align: top;\n",
       "    }\n",
       "\n",
       "    .dataframe thead th {\n",
       "        text-align: right;\n",
       "    }\n",
       "</style>\n",
       "<table border=\"1\" class=\"dataframe\">\n",
       "  <thead>\n",
       "    <tr style=\"text-align: right;\">\n",
       "      <th></th>\n",
       "      <th>Age</th>\n",
       "      <th>RestingBP</th>\n",
       "      <th>Cholesterol</th>\n",
       "      <th>MaxHR</th>\n",
       "      <th>Oldpeak</th>\n",
       "    </tr>\n",
       "  </thead>\n",
       "  <tbody>\n",
       "    <tr>\n",
       "      <th>0</th>\n",
       "      <td>-3.236379</td>\n",
       "      <td>6.602245</td>\n",
       "      <td>-0.851614</td>\n",
       "      <td>-0.554562</td>\n",
       "      <td>1.118123</td>\n",
       "    </tr>\n",
       "  </tbody>\n",
       "</table>\n",
       "</div>"
      ],
      "text/plain": [
       "        Age  RestingBP  Cholesterol     MaxHR   Oldpeak\n",
       "0 -3.236379   6.602245    -0.851614 -0.554562  1.118123"
      ]
     },
     "execution_count": 98,
     "metadata": {},
     "output_type": "execute_result"
    }
   ],
   "source": [
    "# estandarizamos todas las columnas que son de tipo numérico usando el transformer que nos guardamos cuando hicimos el modelo\n",
    "\n",
    "estandarizadas = pd.DataFrame(estandarizacion.transform(df_resultados[[\"Age\", \"RestingBP\", \"Cholesterol\", \n",
    "                           \"MaxHR\", \"Oldpeak\"]]), columns = [\"Age\", \"RestingBP\", \"Cholesterol\", \n",
    "                           \"MaxHR\", \"Oldpeak\"])\n",
    "estandarizadas"
   ]
  },
  {
   "cell_type": "code",
   "execution_count": 99,
   "id": "07818ed1",
   "metadata": {},
   "outputs": [
    {
     "data": {
      "text/html": [
       "<div>\n",
       "<style scoped>\n",
       "    .dataframe tbody tr th:only-of-type {\n",
       "        vertical-align: middle;\n",
       "    }\n",
       "\n",
       "    .dataframe tbody tr th {\n",
       "        vertical-align: top;\n",
       "    }\n",
       "\n",
       "    .dataframe thead th {\n",
       "        text-align: right;\n",
       "    }\n",
       "</style>\n",
       "<table border=\"1\" class=\"dataframe\">\n",
       "  <thead>\n",
       "    <tr style=\"text-align: right;\">\n",
       "      <th></th>\n",
       "      <th>Age</th>\n",
       "      <th>Sex</th>\n",
       "      <th>ChestPainType</th>\n",
       "      <th>RestingBP</th>\n",
       "      <th>Cholesterol</th>\n",
       "      <th>FastingBS</th>\n",
       "      <th>RestingECG</th>\n",
       "      <th>MaxHR</th>\n",
       "      <th>ExerciseAngina</th>\n",
       "      <th>Oldpeak</th>\n",
       "      <th>ST_Slope</th>\n",
       "    </tr>\n",
       "  </thead>\n",
       "  <tbody>\n",
       "    <tr>\n",
       "      <th>0</th>\n",
       "      <td>23</td>\n",
       "      <td>M</td>\n",
       "      <td>NAP</td>\n",
       "      <td>234</td>\n",
       "      <td>198</td>\n",
       "      <td>1</td>\n",
       "      <td>Normal</td>\n",
       "      <td>123</td>\n",
       "      <td>Y</td>\n",
       "      <td>1.9</td>\n",
       "      <td>Up</td>\n",
       "    </tr>\n",
       "  </tbody>\n",
       "</table>\n",
       "</div>"
      ],
      "text/plain": [
       "   Age Sex ChestPainType  RestingBP  Cholesterol  FastingBS RestingECG  MaxHR  \\\n",
       "0   23   M           NAP        234          198          1     Normal    123   \n",
       "\n",
       "  ExerciseAngina  Oldpeak ST_Slope  \n",
       "0              Y      1.9       Up  "
      ]
     },
     "execution_count": 99,
     "metadata": {},
     "output_type": "execute_result"
    }
   ],
   "source": [
    "df_resultados.head(1)"
   ]
  },
  {
   "cell_type": "code",
   "execution_count": 100,
   "id": "a73e1634",
   "metadata": {},
   "outputs": [],
   "source": [
    "# hacemos el encoding del resto de las variables\n",
    "\n",
    "chest = pd.DataFrame(encoding_chestpain.transform(df_resultados[[\"ChestPainType\"]]), columns= [\"ChestPainType\"])\n",
    "angina = pd.DataFrame(encoding_angina.transform(df_resultados[[\"ExerciseAngina\"]]), columns= [\"ExerciseAngina\"])\n",
    "resting = pd.DataFrame(encoding_resting.transform(df_resultados[[\"RestingECG\"]]), columns= [\"RestingECG\"])\n",
    "slope = pd.DataFrame(encoding_slope.transform(df_resultados[[\"ST_Slope\"]]), columns= [\"ST_Slope\"])\n",
    "fasting = pd.DataFrame(encoding_fasting.transform(df_resultados[[\"FastingBS\"]]), columns= [\"FastingBS\"])\n",
    "sex = pd.DataFrame(encoding_sex.transform(df_resultados[[\"Sex\"]]).toarray(), columns=[\"Sex_F\", \"Sex_M\"])\n"
   ]
  },
  {
   "cell_type": "code",
   "execution_count": 101,
   "id": "509f16e6",
   "metadata": {},
   "outputs": [
    {
     "data": {
      "text/html": [
       "<div>\n",
       "<style scoped>\n",
       "    .dataframe tbody tr th:only-of-type {\n",
       "        vertical-align: middle;\n",
       "    }\n",
       "\n",
       "    .dataframe tbody tr th {\n",
       "        vertical-align: top;\n",
       "    }\n",
       "\n",
       "    .dataframe thead th {\n",
       "        text-align: right;\n",
       "    }\n",
       "</style>\n",
       "<table border=\"1\" class=\"dataframe\">\n",
       "  <thead>\n",
       "    <tr style=\"text-align: right;\">\n",
       "      <th></th>\n",
       "      <th>Age</th>\n",
       "      <th>RestingBP</th>\n",
       "      <th>Cholesterol</th>\n",
       "      <th>MaxHR</th>\n",
       "      <th>Oldpeak</th>\n",
       "      <th>Sex_F</th>\n",
       "      <th>Sex_M</th>\n",
       "      <th>ChestPainType</th>\n",
       "      <th>ExerciseAngina</th>\n",
       "      <th>RestingECG</th>\n",
       "      <th>ST_Slope</th>\n",
       "      <th>FastingBS</th>\n",
       "    </tr>\n",
       "  </thead>\n",
       "  <tbody>\n",
       "    <tr>\n",
       "      <th>0</th>\n",
       "      <td>-3.236379</td>\n",
       "      <td>6.602245</td>\n",
       "      <td>-0.851614</td>\n",
       "      <td>-0.554562</td>\n",
       "      <td>1.118123</td>\n",
       "      <td>0.0</td>\n",
       "      <td>1.0</td>\n",
       "      <td>1</td>\n",
       "      <td>1</td>\n",
       "      <td>0</td>\n",
       "      <td>1</td>\n",
       "      <td>1</td>\n",
       "    </tr>\n",
       "  </tbody>\n",
       "</table>\n",
       "</div>"
      ],
      "text/plain": [
       "        Age  RestingBP  Cholesterol     MaxHR   Oldpeak  Sex_F  Sex_M  \\\n",
       "0 -3.236379   6.602245    -0.851614 -0.554562  1.118123    0.0    1.0   \n",
       "\n",
       "   ChestPainType  ExerciseAngina  RestingECG  ST_Slope  FastingBS  \n",
       "0              1               1           0         1          1  "
      ]
     },
     "execution_count": 101,
     "metadata": {},
     "output_type": "execute_result"
    }
   ],
   "source": [
    "# unimos todos los conjuntos de datos que hemos ido generando con los transformers\n",
    "df_final = pd.concat([estandarizadas, sex, chest, angina, resting, slope, fasting], axis = 1)\n",
    "df_final"
   ]
  },
  {
   "cell_type": "code",
   "execution_count": 102,
   "id": "57501f93",
   "metadata": {},
   "outputs": [],
   "source": [
    "# cambiamos el orden de las columnas ya que estas deben estar en el mismo orden de como entrenamos al modelo\n",
    "df_final = df_final.reindex(['Age', 'ChestPainType', 'RestingBP', 'Cholesterol', 'FastingBS',\n",
    "       'RestingECG', 'MaxHR', 'ExerciseAngina', 'Oldpeak', 'ST_Slope',\n",
    "       'Sex_F', 'Sex_M'], axis=1)"
   ]
  },
  {
   "cell_type": "code",
   "execution_count": 104,
   "id": "f3433ad4",
   "metadata": {},
   "outputs": [
    {
     "data": {
      "text/plain": [
       "array([1])"
      ]
     },
     "execution_count": 104,
     "metadata": {},
     "output_type": "execute_result"
    }
   ],
   "source": [
    "# hacemos la predicción para nuestro nuevo paciente\n",
    "modelo.predict(df_final)"
   ]
  },
  {
   "cell_type": "code",
   "execution_count": 105,
   "id": "b89653e3",
   "metadata": {},
   "outputs": [
    {
     "data": {
      "text/plain": [
       "array([[0.42040418, 0.57959582]])"
      ]
     },
     "execution_count": 105,
     "metadata": {},
     "output_type": "execute_result"
    }
   ],
   "source": [
    "# ¿Cuál es la probabilidad de que le un infarto al paciente?\n",
    "\n",
    "modelo.predict_proba(df_final)"
   ]
  }
 ],
 "metadata": {
  "kernelspec": {
   "display_name": "ironhack",
   "language": "python",
   "name": "python3"
  },
  "language_info": {
   "codemirror_mode": {
    "name": "ipython",
    "version": 3
   },
   "file_extension": ".py",
   "mimetype": "text/x-python",
   "name": "python",
   "nbconvert_exporter": "python",
   "pygments_lexer": "ipython3",
   "version": "3.10.9"
  }
 },
 "nbformat": 4,
 "nbformat_minor": 5
}
