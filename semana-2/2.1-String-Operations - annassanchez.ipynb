{
 "cells": [
  {
   "cell_type": "markdown",
   "id": "b373bf60",
   "metadata": {
    "toc": true
   },
   "source": [
    "<h1>Table of Contents<span class=\"tocSkip\"></span></h1>\n",
    "<div class=\"toc\"><ul class=\"toc-item\"><li><span><a href=\"#Métodos-de-los-strings\" data-toc-modified-id=\"Métodos-de-los-strings-1\"><span class=\"toc-item-num\">1&nbsp;&nbsp;</span>Métodos de los strings</a></span></li></ul></div>"
   ]
  },
  {
   "cell_type": "markdown",
   "id": "a0f7ef7b",
   "metadata": {},
   "source": [
    "# Métodos de los strings"
   ]
  },
  {
   "cell_type": "markdown",
   "id": "87681662",
   "metadata": {},
   "source": [
    "Pero... ¿Qué pasa con los *strings*?\n",
    "\n",
    "Los *strings* van a tener sus métodos propios. Veamos los principales:"
   ]
  },
  {
   "cell_type": "code",
   "execution_count": 1,
   "id": "725dedd9",
   "metadata": {},
   "outputs": [
    {
     "data": {
      "text/plain": [
       "'hola chicos'"
      ]
     },
     "execution_count": 1,
     "metadata": {},
     "output_type": "execute_result"
    }
   ],
   "source": [
    "\"hola chicos\""
   ]
  },
  {
   "cell_type": "code",
   "execution_count": 6,
   "id": "1a65b337",
   "metadata": {},
   "outputs": [
    {
     "data": {
      "text/plain": [
       "'Hola Mundo'"
      ]
     },
     "execution_count": 6,
     "metadata": {},
     "output_type": "execute_result"
    }
   ],
   "source": [
    "string = \"Hola Mundo\"\n",
    "string"
   ]
  },
  {
   "cell_type": "code",
   "execution_count": 3,
   "id": "22636874",
   "metadata": {},
   "outputs": [
    {
     "data": {
      "text/plain": [
       "str"
      ]
     },
     "execution_count": 3,
     "metadata": {},
     "output_type": "execute_result"
    }
   ],
   "source": [
    "type(string)"
   ]
  },
  {
   "cell_type": "markdown",
   "id": "22abd14d",
   "metadata": {},
   "source": [
    "`upper`: devuelve el *srting* con todos sus caracteres en mayúscula"
   ]
  },
  {
   "cell_type": "code",
   "execution_count": 4,
   "id": "7cb343e5",
   "metadata": {},
   "outputs": [
    {
     "data": {
      "text/plain": [
       "'HOLA MUNDO'"
      ]
     },
     "execution_count": 4,
     "metadata": {},
     "output_type": "execute_result"
    }
   ],
   "source": [
    "## es un método, por eso se escribe distinto\n",
    "string.upper()"
   ]
  },
  {
   "cell_type": "code",
   "execution_count": 5,
   "id": "559f4165",
   "metadata": {},
   "outputs": [
    {
     "data": {
      "text/plain": [
       "'HOLA CHICOS'"
      ]
     },
     "execution_count": 5,
     "metadata": {},
     "output_type": "execute_result"
    }
   ],
   "source": [
    "\"hola chicos\".upper()"
   ]
  },
  {
   "cell_type": "markdown",
   "id": "5ef73517",
   "metadata": {},
   "source": [
    "`lower`: devuelve la cadena con todos sus caracteres en minúscula"
   ]
  },
  {
   "cell_type": "code",
   "execution_count": 7,
   "id": "b340354b",
   "metadata": {},
   "outputs": [
    {
     "data": {
      "text/plain": [
       "'hola mundo'"
      ]
     },
     "execution_count": 7,
     "metadata": {},
     "output_type": "execute_result"
    }
   ],
   "source": [
    "string.lower()"
   ]
  },
  {
   "cell_type": "markdown",
   "id": "83dd3401",
   "metadata": {},
   "source": [
    "`capitalize`: devuelve la cadena con sus primer carácter en mayúsucula "
   ]
  },
  {
   "cell_type": "code",
   "execution_count": 8,
   "id": "a06f1ac6",
   "metadata": {},
   "outputs": [],
   "source": [
    "string2 = \"hOla mUnDo\""
   ]
  },
  {
   "cell_type": "code",
   "execution_count": 9,
   "id": "f7bfce3b",
   "metadata": {},
   "outputs": [
    {
     "data": {
      "text/plain": [
       "'Hola mundo'"
      ]
     },
     "execution_count": 9,
     "metadata": {},
     "output_type": "execute_result"
    }
   ],
   "source": [
    "string2.capitalize()"
   ]
  },
  {
   "cell_type": "code",
   "execution_count": 10,
   "id": "a4bbb4a8",
   "metadata": {},
   "outputs": [
    {
     "ename": "AttributeError",
     "evalue": "'list' object has no attribute 'capitalize'",
     "output_type": "error",
     "traceback": [
      "\u001b[1;31m---------------------------------------------------------------------------\u001b[0m",
      "\u001b[1;31mAttributeError\u001b[0m                            Traceback (most recent call last)",
      "Cell \u001b[1;32mIn [10], line 2\u001b[0m\n\u001b[0;32m      1\u001b[0m lista \u001b[39m=\u001b[39m [\u001b[39m'\u001b[39m\u001b[39mHOLA\u001b[39m\u001b[39m'\u001b[39m, \u001b[39m'\u001b[39m\u001b[39mQUE\u001b[39m\u001b[39m'\u001b[39m, \u001b[39m'\u001b[39m\u001b[39mTAL\u001b[39m\u001b[39m'\u001b[39m]\n\u001b[1;32m----> 2\u001b[0m lista\u001b[39m.\u001b[39;49mcapitalize()\n",
      "\u001b[1;31mAttributeError\u001b[0m: 'list' object has no attribute 'capitalize'"
     ]
    }
   ],
   "source": [
    "lista = ['HOLA', 'QUE', 'TAL']\n",
    "lista.capitalize() ##son métodos de strings, por lo que para usarlos en una lista habría que iterar"
   ]
  },
  {
   "cell_type": "markdown",
   "id": "4fbe313e",
   "metadata": {},
   "source": [
    "`count`: devuelve el número de veces que aparece un *substring* en el *string*"
   ]
  },
  {
   "cell_type": "code",
   "execution_count": 11,
   "id": "e3ed1bc3",
   "metadata": {},
   "outputs": [
    {
     "data": {
      "text/plain": [
       "0"
      ]
     },
     "execution_count": 11,
     "metadata": {},
     "output_type": "execute_result"
    }
   ],
   "source": [
    "string.count(\"mundo\")"
   ]
  },
  {
   "cell_type": "code",
   "execution_count": 12,
   "id": "fcdf75ec",
   "metadata": {},
   "outputs": [
    {
     "data": {
      "text/plain": [
       "2"
      ]
     },
     "execution_count": 12,
     "metadata": {},
     "output_type": "execute_result"
    }
   ],
   "source": [
    "string.count(\"o\") ## es case sensitive, ojo\n",
    "## sino habría que usar un capitalize"
   ]
  },
  {
   "cell_type": "markdown",
   "id": "5818dff5",
   "metadata": {},
   "source": [
    "`title`: devuelve el *string* con el primer carácter de cada palabra en mayúscula"
   ]
  },
  {
   "cell_type": "code",
   "execution_count": 13,
   "id": "05d24020",
   "metadata": {},
   "outputs": [
    {
     "data": {
      "text/plain": [
       "'Hola Mundo'"
      ]
     },
     "execution_count": 13,
     "metadata": {},
     "output_type": "execute_result"
    }
   ],
   "source": [
    "string.title() "
   ]
  },
  {
   "cell_type": "code",
   "execution_count": 14,
   "id": "05d24020",
   "metadata": {},
   "outputs": [
    {
     "data": {
      "text/plain": [
       "'Hola Chicos Y Chicas'"
      ]
     },
     "execution_count": 14,
     "metadata": {},
     "output_type": "execute_result"
    }
   ],
   "source": [
    "string3 = \"hola chicos y chicas\"\n",
    "string3.title() "
   ]
  },
  {
   "cell_type": "markdown",
   "id": "c459a05c",
   "metadata": {},
   "source": [
    "`startswith`: devuelve True si el *string* empieza con el *substring* que le pasemos"
   ]
  },
  {
   "cell_type": "code",
   "execution_count": 15,
   "id": "bde13abd",
   "metadata": {},
   "outputs": [
    {
     "data": {
      "text/plain": [
       "False"
      ]
     },
     "execution_count": 15,
     "metadata": {},
     "output_type": "execute_result"
    }
   ],
   "source": [
    "string.startswith(\"ho\")"
   ]
  },
  {
   "cell_type": "code",
   "execution_count": 16,
   "id": "0dba772f",
   "metadata": {},
   "outputs": [
    {
     "data": {
      "text/plain": [
       "True"
      ]
     },
     "execution_count": 16,
     "metadata": {},
     "output_type": "execute_result"
    }
   ],
   "source": [
    "# ojo! Es case-sensitive\n",
    "string.startswith(\"Ho\")"
   ]
  },
  {
   "cell_type": "markdown",
   "id": "4a0844e9",
   "metadata": {},
   "source": [
    "`endswith`: devuelve True si el *string* acaba con el *substring* que le pasemos"
   ]
  },
  {
   "cell_type": "code",
   "execution_count": 17,
   "id": "4cd5c4a4",
   "metadata": {},
   "outputs": [
    {
     "data": {
      "text/plain": [
       "True"
      ]
     },
     "execution_count": 17,
     "metadata": {},
     "output_type": "execute_result"
    }
   ],
   "source": [
    "string.endswith(\"do\")"
   ]
  },
  {
   "cell_type": "code",
   "execution_count": 19,
   "id": "05d24020",
   "metadata": {},
   "outputs": [
    {
     "data": {
      "text/plain": [
       "False"
      ]
     },
     "execution_count": 19,
     "metadata": {},
     "output_type": "execute_result"
    }
   ],
   "source": [
    "string.endswith(\"s\") ## se refiere a la parte final del string"
   ]
  },
  {
   "cell_type": "code",
   "execution_count": 18,
   "id": "4775a8bf",
   "metadata": {},
   "outputs": [],
   "source": [
    "string4 = \"   Hola mundo, estamos aprendiendo a ser programadores----\""
   ]
  },
  {
   "cell_type": "markdown",
   "id": "609f3b52",
   "metadata": {},
   "source": [
    "`split`: separa el *string* por el símbolo que especifiquemos. Por defecto espacio.\n",
    "\n",
    "📌 Nos devuelve una lista"
   ]
  },
  {
   "cell_type": "code",
   "execution_count": 21,
   "id": "23b5c7aa",
   "metadata": {},
   "outputs": [
    {
     "data": {
      "text/plain": [
       "['Hola', 'mundo,', 'estamos', 'aprendiendo', 'a', 'ser', 'programadores----']"
      ]
     },
     "execution_count": 21,
     "metadata": {},
     "output_type": "execute_result"
    }
   ],
   "source": [
    "string4.split()"
   ]
  },
  {
   "cell_type": "code",
   "execution_count": 23,
   "id": "0ab8c852",
   "metadata": {},
   "outputs": [
    {
     "data": {
      "text/plain": [
       "['   Hola mundo', ' estamos aprendiendo a ser programadores----']"
      ]
     },
     "execution_count": 23,
     "metadata": {},
     "output_type": "execute_result"
    }
   ],
   "source": [
    "string4.split(\",\")"
   ]
  },
  {
   "cell_type": "code",
   "execution_count": 24,
   "id": "3deba28e",
   "metadata": {},
   "outputs": [
    {
     "data": {
      "text/plain": [
       "['   Hola mundo', ' estamos aprendiendo a ser programadores----']"
      ]
     },
     "execution_count": 24,
     "metadata": {},
     "output_type": "execute_result"
    }
   ],
   "source": [
    "lista = string4.split(\",\")\n",
    "lista"
   ]
  },
  {
   "cell_type": "code",
   "execution_count": 26,
   "id": "8dc79133",
   "metadata": {},
   "outputs": [
    {
     "data": {
      "text/plain": [
       "['21', '03', '2021']"
      ]
     },
     "execution_count": 26,
     "metadata": {},
     "output_type": "execute_result"
    }
   ],
   "source": [
    "fecha_1 = \"21-03-2021\"\n",
    "fecha_1.split(\"-\")"
   ]
  },
  {
   "cell_type": "markdown",
   "id": "afc64674",
   "metadata": {},
   "source": [
    "`join`: une todos los caracteres de una cadena utilizando un caracter de unión que nosotros especifiquemos. \n",
    "\n",
    "📌 Nos devuelve un *string* "
   ]
  },
  {
   "cell_type": "code",
   "execution_count": 114,
   "id": "236731d8",
   "metadata": {},
   "outputs": [
    {
     "data": {
      "text/plain": [
       "'   Hola mundo, estamos aprendiendo a ser programadores----'"
      ]
     },
     "execution_count": 114,
     "metadata": {},
     "output_type": "execute_result"
    }
   ],
   "source": [
    "\",\".join(lista)"
   ]
  },
  {
   "cell_type": "code",
   "execution_count": 115,
   "id": "1982687e",
   "metadata": {},
   "outputs": [
    {
     "data": {
      "text/plain": [
       "'   Hola mundo🤓 estamos aprendiendo a ser programadores----'"
      ]
     },
     "execution_count": 115,
     "metadata": {},
     "output_type": "execute_result"
    }
   ],
   "source": [
    "\"🤓\".join(lista)"
   ]
  },
  {
   "cell_type": "markdown",
   "id": "a01aff54",
   "metadata": {},
   "source": [
    "`strip`: borra todos los espacios por delante y detrás de un *string*. Por defecto espacios"
   ]
  },
  {
   "cell_type": "code",
   "execution_count": 116,
   "id": "1a6b2a29",
   "metadata": {},
   "outputs": [
    {
     "data": {
      "text/plain": [
       "'   Hola mundo, estamos aprendiendo a ser programadores----'"
      ]
     },
     "execution_count": 116,
     "metadata": {},
     "output_type": "execute_result"
    }
   ],
   "source": [
    "string2"
   ]
  },
  {
   "cell_type": "code",
   "execution_count": 117,
   "id": "3d160849",
   "metadata": {},
   "outputs": [
    {
     "data": {
      "text/plain": [
       "'Hola mundo, estamos aprendiendo a ser programadores----'"
      ]
     },
     "execution_count": 117,
     "metadata": {},
     "output_type": "execute_result"
    }
   ],
   "source": [
    "string2.strip()"
   ]
  },
  {
   "cell_type": "code",
   "execution_count": 118,
   "id": "515c2767",
   "metadata": {},
   "outputs": [
    {
     "data": {
      "text/plain": [
       "'   Hola mundo, estamos aprendiendo a ser programadores'"
      ]
     },
     "execution_count": 118,
     "metadata": {},
     "output_type": "execute_result"
    }
   ],
   "source": [
    "# podemos indicar el carácter a borrar\n",
    "string2.strip('-')"
   ]
  },
  {
   "cell_type": "code",
   "execution_count": 119,
   "id": "1d6418fb",
   "metadata": {},
   "outputs": [
    {
     "data": {
      "text/plain": [
       "'Hola mundo, estamos aprendiendo a ser programadores'"
      ]
     },
     "execution_count": 119,
     "metadata": {},
     "output_type": "execute_result"
    }
   ],
   "source": [
    "# podemos encadenar todos los métodos que queramos\n",
    "string2.strip('-').strip()"
   ]
  },
  {
   "cell_type": "markdown",
   "id": "94753c41",
   "metadata": {},
   "source": [
    "`rstrip`: borra todos los espacio que a la derecha de nuestro *string*.  Por defecto espacio, pero al igual que el `strip` podemos indicar qué queremos eliminar"
   ]
  },
  {
   "cell_type": "code",
   "execution_count": 123,
   "id": "db8a8745",
   "metadata": {},
   "outputs": [
    {
     "data": {
      "text/plain": [
       "'   Hola mundo, estamos aprendiendo a ser programadores'"
      ]
     },
     "execution_count": 123,
     "metadata": {},
     "output_type": "execute_result"
    }
   ],
   "source": [
    "string2.rstrip(\"-\")"
   ]
  },
  {
   "cell_type": "markdown",
   "id": "4151f372",
   "metadata": {},
   "source": [
    "`lstrip`: borra todos los espacio que a la izquierda de nuestro string. Por defecto espacio, pero al igual que el strip podemos indicar qué queremos eliminar"
   ]
  },
  {
   "cell_type": "code",
   "execution_count": 125,
   "id": "12f6a250",
   "metadata": {},
   "outputs": [
    {
     "data": {
      "text/plain": [
       "'Hola mundo, estamos aprendiendo a ser programadores----'"
      ]
     },
     "execution_count": 125,
     "metadata": {},
     "output_type": "execute_result"
    }
   ],
   "source": [
    "string2.lstrip()"
   ]
  },
  {
   "cell_type": "markdown",
   "id": "51ff61ed",
   "metadata": {},
   "source": [
    "`replace`: reemplaza un *substring* de un *string* pot otra"
   ]
  },
  {
   "cell_type": "code",
   "execution_count": 126,
   "id": "5e0cee18",
   "metadata": {},
   "outputs": [
    {
     "data": {
      "text/plain": [
       "'   HOla mundO, estamOs aprendiendO a ser prOgramadOres----'"
      ]
     },
     "execution_count": 126,
     "metadata": {},
     "output_type": "execute_result"
    }
   ],
   "source": [
    "string2.replace(\"o\", \"O\")"
   ]
  },
  {
   "cell_type": "markdown",
   "id": "1f90c9b5",
   "metadata": {},
   "source": [
    "**Material adicional** \n",
    "\n",
    "- [Métodos de los strings](https://docs.hektorprofe.net/python/metodos-de-las-colecciones/metodos-de-las-cadenas/)"
   ]
  }
 ],
 "metadata": {
  "kernelspec": {
   "display_name": "Python 3.9.13 ('iron')",
   "language": "python",
   "name": "python3"
  },
  "language_info": {
   "codemirror_mode": {
    "name": "ipython",
    "version": 3
   },
   "file_extension": ".py",
   "mimetype": "text/x-python",
   "name": "python",
   "nbconvert_exporter": "python",
   "pygments_lexer": "ipython3",
   "version": "3.9.13"
  },
  "toc": {
   "base_numbering": 1,
   "nav_menu": {},
   "number_sections": true,
   "sideBar": true,
   "skip_h1_title": false,
   "title_cell": "Table of Contents",
   "title_sidebar": "Contents",
   "toc_cell": true,
   "toc_position": {},
   "toc_section_display": true,
   "toc_window_display": false
  },
  "vscode": {
   "interpreter": {
    "hash": "e59d0b279e6461be5b4ea7b62838527cd8f41f3cbc9a1147b1a83b32d75ab689"
   }
  }
 },
 "nbformat": 4,
 "nbformat_minor": 5
}
